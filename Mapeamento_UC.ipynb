{
  "nbformat": 4,
  "nbformat_minor": 0,
  "metadata": {
    "colab": {
      "name": "Mapeamento - UC.ipynb",
      "provenance": [],
      "toc_visible": true,
      "authorship_tag": "ABX9TyNa+U7mqiNMZfqSHl7lXrQI"
    },
    "kernelspec": {
      "name": "python3",
      "display_name": "Python 3"
    },
    "language_info": {
      "name": "python"
    }
  },
  "cells": [
    {
      "cell_type": "markdown",
      "metadata": {
        "id": "YrmKrwM9k7jq"
      },
      "source": [
        "# Contexto de Negócio\n",
        "Uma empresa de Reflorestamento quer mapear as Unidades de Conservação existente em cada esfera administrativa e em cada estado, levando em consideração quantidade, área total e área específica. \n",
        "\n",
        "# Desafio\n",
        "- quantas unidades não possuem plano de manejo?\n",
        "Vamos supor que você foi contratada pela empresa Netflix e ela deseja um modelo preditivo para prever as notas de filmes, para assim decidir se vale a pena ou não colocar esse filme no catálogo. Você daria conta desse desafio?\n",
        "\n",
        "# Produtos finais:\n",
        "Um mapa que mostra os estados com a maior área. "
      ]
    },
    {
      "cell_type": "markdown",
      "metadata": {
        "id": "ZAH3UnI9Es1l"
      },
      "source": [
        "## 0.0. Step 00 - Data Presentation"
      ]
    },
    {
      "cell_type": "markdown",
      "metadata": {
        "id": "Fv8vRaZrwqOl"
      },
      "source": [
        "### 0.1. Bibliotecas"
      ]
    },
    {
      "cell_type": "code",
      "metadata": {
        "id": "JJHvlvxIglPj"
      },
      "source": [
        "import pandas as pd\n",
        "\n",
        "import seaborn as sns\n",
        "import matplotlib.pyplot as plt"
      ],
      "execution_count": 1,
      "outputs": []
    },
    {
      "cell_type": "markdown",
      "metadata": {
        "id": "7DWVC1u2wzAy"
      },
      "source": [
        "### 0.2. Funções"
      ]
    },
    {
      "cell_type": "code",
      "metadata": {
        "id": "ctbHfyMFw7jj"
      },
      "source": [
        ""
      ],
      "execution_count": 1,
      "outputs": []
    },
    {
      "cell_type": "markdown",
      "metadata": {
        "id": "SEAlb0Jsw8H0"
      },
      "source": [
        "### 0.3. Carregamento dos Dados"
      ]
    },
    {
      "cell_type": "code",
      "metadata": {
        "colab": {
          "base_uri": "https://localhost:8080/",
          "height": 626
        },
        "id": "_suNju4rgprW",
        "outputId": "11f4c49f-a684-4de1-8ff4-2e6bee7a1736"
      },
      "source": [
        "url = 'http://dados.mma.gov.br/dataset/44b6dc8a-dc82-4a84-8d95-1b0da7c85dac/resource/3562d093-14ed-434b-9fa3-411b664d6836/download/unidade-de-conservacao.csv'\n",
        "\n",
        "data = pd.read_csv(url, sep=';', error_bad_lines=False)\n",
        "data.head()"
      ],
      "execution_count": 2,
      "outputs": [
        {
          "output_type": "execute_result",
          "data": {
            "text/html": [
              "<div>\n",
              "<style scoped>\n",
              "    .dataframe tbody tr th:only-of-type {\n",
              "        vertical-align: middle;\n",
              "    }\n",
              "\n",
              "    .dataframe tbody tr th {\n",
              "        vertical-align: top;\n",
              "    }\n",
              "\n",
              "    .dataframe thead th {\n",
              "        text-align: right;\n",
              "    }\n",
              "</style>\n",
              "<table border=\"1\" class=\"dataframe\">\n",
              "  <thead>\n",
              "    <tr style=\"text-align: right;\">\n",
              "      <th></th>\n",
              "      <th>Código UC</th>\n",
              "      <th>Nome da UC</th>\n",
              "      <th>Esfera Administrativa</th>\n",
              "      <th>Categoria de Manejo</th>\n",
              "      <th>Categoria IUCN</th>\n",
              "      <th>UF</th>\n",
              "      <th>Ano de criação</th>\n",
              "      <th>Ato Legal de Criação</th>\n",
              "      <th>Outros atos legais</th>\n",
              "      <th>Municípios Abrangidos</th>\n",
              "      <th>Plano de Manejo</th>\n",
              "      <th>Conselho Gestor</th>\n",
              "      <th>Área (ha)</th>\n",
              "      <th>Área (ha) Amazônia</th>\n",
              "      <th>Área (ha) Caatinga</th>\n",
              "      <th>Área (ha) Cerrado</th>\n",
              "      <th>Área (ha) Mata Atlântica</th>\n",
              "      <th>Área (ha) Pampa</th>\n",
              "      <th>Área (ha) Pantanal</th>\n",
              "      <th>Área (ha) Área Marinha</th>\n",
              "    </tr>\n",
              "  </thead>\n",
              "  <tbody>\n",
              "    <tr>\n",
              "      <th>0</th>\n",
              "      <td>0000.00.0001</td>\n",
              "      <td>ÁREA DE PROTEÇÃO AMBIENTAL ANHATOMIRIM</td>\n",
              "      <td>Federal</td>\n",
              "      <td>Área de Proteção Ambiental</td>\n",
              "      <td>Category V</td>\n",
              "      <td>SC</td>\n",
              "      <td>1992</td>\n",
              "      <td>Decreto 528 de 20/05/1992</td>\n",
              "      <td>-</td>\n",
              "      <td>Governador Celso Ramos (SC)</td>\n",
              "      <td>Não</td>\n",
              "      <td>Sim</td>\n",
              "      <td>4.437</td>\n",
              "      <td>0</td>\n",
              "      <td>0</td>\n",
              "      <td>0</td>\n",
              "      <td>4.320</td>\n",
              "      <td>0.0</td>\n",
              "      <td>0.0</td>\n",
              "      <td>117</td>\n",
              "    </tr>\n",
              "    <tr>\n",
              "      <th>1</th>\n",
              "      <td>0000.00.0002</td>\n",
              "      <td>ÁREA DE PROTEÇÃO AMBIENTAL CAVERNAS DO PERUAÇU</td>\n",
              "      <td>Federal</td>\n",
              "      <td>Área de Proteção Ambiental</td>\n",
              "      <td>Category V</td>\n",
              "      <td>MG</td>\n",
              "      <td>1989</td>\n",
              "      <td>Decreto 98182 de 26/09/1989</td>\n",
              "      <td>-</td>\n",
              "      <td>Bonito de Minas (MG), Cônego Marinho (MG), Ita...</td>\n",
              "      <td>Não</td>\n",
              "      <td>Sim</td>\n",
              "      <td>143.354</td>\n",
              "      <td>0</td>\n",
              "      <td>4.614</td>\n",
              "      <td>138.741</td>\n",
              "      <td>0</td>\n",
              "      <td>0.0</td>\n",
              "      <td>0.0</td>\n",
              "      <td>0</td>\n",
              "    </tr>\n",
              "    <tr>\n",
              "      <th>2</th>\n",
              "      <td>0000.00.0003</td>\n",
              "      <td>ÁREA DE PROTEÇÃO AMBIENTAL DA BACIA DO RIO DES...</td>\n",
              "      <td>Federal</td>\n",
              "      <td>Área de Proteção Ambiental</td>\n",
              "      <td>Category V</td>\n",
              "      <td>DF, GO</td>\n",
              "      <td>1983</td>\n",
              "      <td>Decreto 88940 de 07/11/1983</td>\n",
              "      <td>-</td>\n",
              "      <td>Brasília (DF), Padre Bernardo (GO), Águas Lind...</td>\n",
              "      <td>Não</td>\n",
              "      <td>Não</td>\n",
              "      <td>41.784</td>\n",
              "      <td>0</td>\n",
              "      <td>0</td>\n",
              "      <td>41.784</td>\n",
              "      <td>0</td>\n",
              "      <td>0.0</td>\n",
              "      <td>0.0</td>\n",
              "      <td>0</td>\n",
              "    </tr>\n",
              "    <tr>\n",
              "      <th>3</th>\n",
              "      <td>0000.00.0004</td>\n",
              "      <td>ÁREA DE PROTEÇÃO AMBIENTAL DA BACIA DO RIO SÃO...</td>\n",
              "      <td>Federal</td>\n",
              "      <td>Área de Proteção Ambiental</td>\n",
              "      <td>Category V</td>\n",
              "      <td>DF</td>\n",
              "      <td>1983</td>\n",
              "      <td>Decreto 88940 de 07/11/1983</td>\n",
              "      <td>-</td>\n",
              "      <td>Brasília (DF)</td>\n",
              "      <td>Não</td>\n",
              "      <td>Não</td>\n",
              "      <td>82.680</td>\n",
              "      <td>0</td>\n",
              "      <td>0</td>\n",
              "      <td>82.680</td>\n",
              "      <td>0</td>\n",
              "      <td>0.0</td>\n",
              "      <td>0.0</td>\n",
              "      <td>0</td>\n",
              "    </tr>\n",
              "    <tr>\n",
              "      <th>4</th>\n",
              "      <td>0000.00.0005</td>\n",
              "      <td>ÁREA DE PROTEÇÃO AMBIENTAL DA BACIA DO RIO SÃO...</td>\n",
              "      <td>Federal</td>\n",
              "      <td>Área de Proteção Ambiental</td>\n",
              "      <td>Category V</td>\n",
              "      <td>RJ</td>\n",
              "      <td>2002</td>\n",
              "      <td>Decreto S/N de 27/06/2002</td>\n",
              "      <td>-</td>\n",
              "      <td>Silva Jardim (RJ), Rio das Ostras (RJ), Rio Bo...</td>\n",
              "      <td>Sim</td>\n",
              "      <td>Sim</td>\n",
              "      <td>150.374</td>\n",
              "      <td>0</td>\n",
              "      <td>0</td>\n",
              "      <td>0</td>\n",
              "      <td>150.341</td>\n",
              "      <td>0.0</td>\n",
              "      <td>0.0</td>\n",
              "      <td>32</td>\n",
              "    </tr>\n",
              "  </tbody>\n",
              "</table>\n",
              "</div>"
            ],
            "text/plain": [
              "      Código UC  ... Área (ha) Área Marinha\n",
              "0  0000.00.0001  ...                    117\n",
              "1  0000.00.0002  ...                      0\n",
              "2  0000.00.0003  ...                      0\n",
              "3  0000.00.0004  ...                      0\n",
              "4  0000.00.0005  ...                     32\n",
              "\n",
              "[5 rows x 20 columns]"
            ]
          },
          "metadata": {
            "tags": []
          },
          "execution_count": 2
        }
      ]
    },
    {
      "cell_type": "markdown",
      "metadata": {
        "id": "OK4UIwpiC30_"
      },
      "source": [
        "## 1.0. Step 01 - Data Description"
      ]
    },
    {
      "cell_type": "code",
      "metadata": {
        "id": "x8thhJvFCW_j"
      },
      "source": [
        "# copiar os dados para torná-los recuperaveis mais tarde"
      ],
      "execution_count": 3,
      "outputs": []
    },
    {
      "cell_type": "markdown",
      "metadata": {
        "id": "DsWp0VbHCxFF"
      },
      "source": [
        "### 1.1. Data Dimensions\n",
        "\n",
        "- .shape, len"
      ]
    },
    {
      "cell_type": "code",
      "metadata": {
        "colab": {
          "base_uri": "https://localhost:8080/"
        },
        "id": "coP5DeNOkVbz",
        "outputId": "f403edf9-c80b-4235-e7fd-bc018c668cbf"
      },
      "source": [
        "print(f'Quantidade de linhas: {data.shape[0]}\\n'\n",
        "      f'Quantidade de colunas: {data.shape[1]}')"
      ],
      "execution_count": 4,
      "outputs": [
        {
          "output_type": "stream",
          "text": [
            "Quantidade de linhas: 2201\n",
            "Quantidade de colunas: 20\n"
          ],
          "name": "stdout"
        }
      ]
    },
    {
      "cell_type": "markdown",
      "metadata": {
        "id": "x00iJopfDe1g"
      },
      "source": [
        "### 1.2. Data Information\n",
        "\n",
        "data.dtypes*"
      ]
    },
    {
      "cell_type": "code",
      "metadata": {
        "colab": {
          "base_uri": "https://localhost:8080/"
        },
        "id": "hsOtB1JWpOcy",
        "outputId": "7709f324-07e5-4904-c02f-548d486981f4"
      },
      "source": [
        "data.info()"
      ],
      "execution_count": 5,
      "outputs": [
        {
          "output_type": "stream",
          "text": [
            "<class 'pandas.core.frame.DataFrame'>\n",
            "RangeIndex: 2201 entries, 0 to 2200\n",
            "Data columns (total 20 columns):\n",
            " #   Column                    Non-Null Count  Dtype  \n",
            "---  ------                    --------------  -----  \n",
            " 0   Código UC                 2201 non-null   object \n",
            " 1   Nome da UC                2201 non-null   object \n",
            " 2   Esfera Administrativa     2201 non-null   object \n",
            " 3   Categoria de Manejo       2201 non-null   object \n",
            " 4   Categoria IUCN            2201 non-null   object \n",
            " 5   UF                        2201 non-null   object \n",
            " 6   Ano de criação            2201 non-null   int64  \n",
            " 7   Ato Legal de Criação      2201 non-null   object \n",
            " 8   Outros atos legais        2201 non-null   object \n",
            " 9   Municípios Abrangidos     2201 non-null   object \n",
            " 10  Plano de Manejo           2201 non-null   object \n",
            " 11  Conselho Gestor           2201 non-null   object \n",
            " 12  Área (ha)                 2201 non-null   object \n",
            " 13  Área (ha) Amazônia        2201 non-null   object \n",
            " 14  Área (ha) Caatinga        2201 non-null   object \n",
            " 15  Área (ha) Cerrado         2201 non-null   object \n",
            " 16  Área (ha) Mata Atlântica  2201 non-null   object \n",
            " 17  Área (ha) Pampa           2201 non-null   float64\n",
            " 18  Área (ha) Pantanal        2201 non-null   float64\n",
            " 19  Área (ha) Área Marinha    2201 non-null   object \n",
            "dtypes: float64(2), int64(1), object(17)\n",
            "memory usage: 344.0+ KB\n"
          ],
          "name": "stdout"
        }
      ]
    },
    {
      "cell_type": "code",
      "metadata": {
        "colab": {
          "base_uri": "https://localhost:8080/",
          "height": 300
        },
        "id": "m9F1XMTOWGfy",
        "outputId": "94ebe6df-5174-4e20-d5b9-1c5539a4f9d5"
      },
      "source": [
        "data.describe()"
      ],
      "execution_count": 6,
      "outputs": [
        {
          "output_type": "execute_result",
          "data": {
            "text/html": [
              "<div>\n",
              "<style scoped>\n",
              "    .dataframe tbody tr th:only-of-type {\n",
              "        vertical-align: middle;\n",
              "    }\n",
              "\n",
              "    .dataframe tbody tr th {\n",
              "        vertical-align: top;\n",
              "    }\n",
              "\n",
              "    .dataframe thead th {\n",
              "        text-align: right;\n",
              "    }\n",
              "</style>\n",
              "<table border=\"1\" class=\"dataframe\">\n",
              "  <thead>\n",
              "    <tr style=\"text-align: right;\">\n",
              "      <th></th>\n",
              "      <th>Ano de criação</th>\n",
              "      <th>Área (ha) Pampa</th>\n",
              "      <th>Área (ha) Pantanal</th>\n",
              "    </tr>\n",
              "  </thead>\n",
              "  <tbody>\n",
              "    <tr>\n",
              "      <th>count</th>\n",
              "      <td>2201.000000</td>\n",
              "      <td>2201.000000</td>\n",
              "      <td>2201.000000</td>\n",
              "    </tr>\n",
              "    <tr>\n",
              "      <th>mean</th>\n",
              "      <td>2000.209450</td>\n",
              "      <td>1.713058</td>\n",
              "      <td>1.500432</td>\n",
              "    </tr>\n",
              "    <tr>\n",
              "      <th>std</th>\n",
              "      <td>11.732907</td>\n",
              "      <td>32.354632</td>\n",
              "      <td>29.706676</td>\n",
              "    </tr>\n",
              "    <tr>\n",
              "      <th>min</th>\n",
              "      <td>1934.000000</td>\n",
              "      <td>0.000000</td>\n",
              "      <td>0.000000</td>\n",
              "    </tr>\n",
              "    <tr>\n",
              "      <th>25%</th>\n",
              "      <td>1995.000000</td>\n",
              "      <td>0.000000</td>\n",
              "      <td>0.000000</td>\n",
              "    </tr>\n",
              "    <tr>\n",
              "      <th>50%</th>\n",
              "      <td>2001.000000</td>\n",
              "      <td>0.000000</td>\n",
              "      <td>0.000000</td>\n",
              "    </tr>\n",
              "    <tr>\n",
              "      <th>75%</th>\n",
              "      <td>2009.000000</td>\n",
              "      <td>0.000000</td>\n",
              "      <td>0.000000</td>\n",
              "    </tr>\n",
              "    <tr>\n",
              "      <th>max</th>\n",
              "      <td>2018.000000</td>\n",
              "      <td>959.000000</td>\n",
              "      <td>951.000000</td>\n",
              "    </tr>\n",
              "  </tbody>\n",
              "</table>\n",
              "</div>"
            ],
            "text/plain": [
              "       Ano de criação  Área (ha) Pampa  Área (ha) Pantanal\n",
              "count     2201.000000      2201.000000         2201.000000\n",
              "mean      2000.209450         1.713058            1.500432\n",
              "std         11.732907        32.354632           29.706676\n",
              "min       1934.000000         0.000000            0.000000\n",
              "25%       1995.000000         0.000000            0.000000\n",
              "50%       2001.000000         0.000000            0.000000\n",
              "75%       2009.000000         0.000000            0.000000\n",
              "max       2018.000000       959.000000          951.000000"
            ]
          },
          "metadata": {
            "tags": []
          },
          "execution_count": 6
        }
      ]
    },
    {
      "cell_type": "code",
      "metadata": {
        "id": "KmYzQ-u4WF5Z"
      },
      "source": [
        ""
      ],
      "execution_count": 6,
      "outputs": []
    },
    {
      "cell_type": "markdown",
      "metadata": {
        "id": "RFGE8uztDsa8"
      },
      "source": [
        "### 1.3. Checking NA\n",
        "\n",
        "data.isna().sum()"
      ]
    },
    {
      "cell_type": "code",
      "metadata": {
        "colab": {
          "base_uri": "https://localhost:8080/"
        },
        "id": "J9h-pA05DpDK",
        "outputId": "16c88557-888b-42eb-b30f-85a46ebc6e97"
      },
      "source": [
        "data.isna().sum()"
      ],
      "execution_count": 7,
      "outputs": [
        {
          "output_type": "execute_result",
          "data": {
            "text/plain": [
              "Código UC                   0\n",
              "Nome da UC                  0\n",
              "Esfera Administrativa       0\n",
              "Categoria de Manejo         0\n",
              "Categoria IUCN              0\n",
              "UF                          0\n",
              "Ano de criação              0\n",
              "Ato Legal de Criação        0\n",
              "Outros atos legais          0\n",
              "Municípios Abrangidos       0\n",
              "Plano de Manejo             0\n",
              "Conselho Gestor             0\n",
              "Área (ha)                   0\n",
              "Área (ha) Amazônia          0\n",
              "Área (ha) Caatinga          0\n",
              "Área (ha) Cerrado           0\n",
              "Área (ha) Mata Atlântica    0\n",
              "Área (ha) Pampa             0\n",
              "Área (ha) Pantanal          0\n",
              "Área (ha) Área Marinha      0\n",
              "dtype: int64"
            ]
          },
          "metadata": {
            "tags": []
          },
          "execution_count": 7
        }
      ]
    },
    {
      "cell_type": "markdown",
      "metadata": {
        "id": "BBNY1GHUELP4"
      },
      "source": [
        "### 1.4. Data Cleaning"
      ]
    },
    {
      "cell_type": "markdown",
      "metadata": {
        "id": "PMTxAxByESLw"
      },
      "source": [
        "#### 1.4.1. Cleaning columns"
      ]
    },
    {
      "cell_type": "code",
      "metadata": {
        "id": "oGuzvyosjrls"
      },
      "source": [
        "data.drop(['Código UC', 'Ato Legal de Criação', 'Outros atos legais', 'Municípios Abrangidos'], axis=1, inplace=True)"
      ],
      "execution_count": 8,
      "outputs": []
    },
    {
      "cell_type": "code",
      "metadata": {
        "colab": {
          "base_uri": "https://localhost:8080/",
          "height": 588
        },
        "id": "vEhWkjoHp_dX",
        "outputId": "536e5f89-9113-4d93-b998-fb002213b2d2"
      },
      "source": [
        "data.head()"
      ],
      "execution_count": 9,
      "outputs": [
        {
          "output_type": "execute_result",
          "data": {
            "text/html": [
              "<div>\n",
              "<style scoped>\n",
              "    .dataframe tbody tr th:only-of-type {\n",
              "        vertical-align: middle;\n",
              "    }\n",
              "\n",
              "    .dataframe tbody tr th {\n",
              "        vertical-align: top;\n",
              "    }\n",
              "\n",
              "    .dataframe thead th {\n",
              "        text-align: right;\n",
              "    }\n",
              "</style>\n",
              "<table border=\"1\" class=\"dataframe\">\n",
              "  <thead>\n",
              "    <tr style=\"text-align: right;\">\n",
              "      <th></th>\n",
              "      <th>Nome da UC</th>\n",
              "      <th>Esfera Administrativa</th>\n",
              "      <th>Categoria de Manejo</th>\n",
              "      <th>Categoria IUCN</th>\n",
              "      <th>UF</th>\n",
              "      <th>Ano de criação</th>\n",
              "      <th>Plano de Manejo</th>\n",
              "      <th>Conselho Gestor</th>\n",
              "      <th>Área (ha)</th>\n",
              "      <th>Área (ha) Amazônia</th>\n",
              "      <th>Área (ha) Caatinga</th>\n",
              "      <th>Área (ha) Cerrado</th>\n",
              "      <th>Área (ha) Mata Atlântica</th>\n",
              "      <th>Área (ha) Pampa</th>\n",
              "      <th>Área (ha) Pantanal</th>\n",
              "      <th>Área (ha) Área Marinha</th>\n",
              "    </tr>\n",
              "  </thead>\n",
              "  <tbody>\n",
              "    <tr>\n",
              "      <th>0</th>\n",
              "      <td>ÁREA DE PROTEÇÃO AMBIENTAL ANHATOMIRIM</td>\n",
              "      <td>Federal</td>\n",
              "      <td>Área de Proteção Ambiental</td>\n",
              "      <td>Category V</td>\n",
              "      <td>SC</td>\n",
              "      <td>1992</td>\n",
              "      <td>Não</td>\n",
              "      <td>Sim</td>\n",
              "      <td>4.437</td>\n",
              "      <td>0</td>\n",
              "      <td>0</td>\n",
              "      <td>0</td>\n",
              "      <td>4.320</td>\n",
              "      <td>0.0</td>\n",
              "      <td>0.0</td>\n",
              "      <td>117</td>\n",
              "    </tr>\n",
              "    <tr>\n",
              "      <th>1</th>\n",
              "      <td>ÁREA DE PROTEÇÃO AMBIENTAL CAVERNAS DO PERUAÇU</td>\n",
              "      <td>Federal</td>\n",
              "      <td>Área de Proteção Ambiental</td>\n",
              "      <td>Category V</td>\n",
              "      <td>MG</td>\n",
              "      <td>1989</td>\n",
              "      <td>Não</td>\n",
              "      <td>Sim</td>\n",
              "      <td>143.354</td>\n",
              "      <td>0</td>\n",
              "      <td>4.614</td>\n",
              "      <td>138.741</td>\n",
              "      <td>0</td>\n",
              "      <td>0.0</td>\n",
              "      <td>0.0</td>\n",
              "      <td>0</td>\n",
              "    </tr>\n",
              "    <tr>\n",
              "      <th>2</th>\n",
              "      <td>ÁREA DE PROTEÇÃO AMBIENTAL DA BACIA DO RIO DES...</td>\n",
              "      <td>Federal</td>\n",
              "      <td>Área de Proteção Ambiental</td>\n",
              "      <td>Category V</td>\n",
              "      <td>DF, GO</td>\n",
              "      <td>1983</td>\n",
              "      <td>Não</td>\n",
              "      <td>Não</td>\n",
              "      <td>41.784</td>\n",
              "      <td>0</td>\n",
              "      <td>0</td>\n",
              "      <td>41.784</td>\n",
              "      <td>0</td>\n",
              "      <td>0.0</td>\n",
              "      <td>0.0</td>\n",
              "      <td>0</td>\n",
              "    </tr>\n",
              "    <tr>\n",
              "      <th>3</th>\n",
              "      <td>ÁREA DE PROTEÇÃO AMBIENTAL DA BACIA DO RIO SÃO...</td>\n",
              "      <td>Federal</td>\n",
              "      <td>Área de Proteção Ambiental</td>\n",
              "      <td>Category V</td>\n",
              "      <td>DF</td>\n",
              "      <td>1983</td>\n",
              "      <td>Não</td>\n",
              "      <td>Não</td>\n",
              "      <td>82.680</td>\n",
              "      <td>0</td>\n",
              "      <td>0</td>\n",
              "      <td>82.680</td>\n",
              "      <td>0</td>\n",
              "      <td>0.0</td>\n",
              "      <td>0.0</td>\n",
              "      <td>0</td>\n",
              "    </tr>\n",
              "    <tr>\n",
              "      <th>4</th>\n",
              "      <td>ÁREA DE PROTEÇÃO AMBIENTAL DA BACIA DO RIO SÃO...</td>\n",
              "      <td>Federal</td>\n",
              "      <td>Área de Proteção Ambiental</td>\n",
              "      <td>Category V</td>\n",
              "      <td>RJ</td>\n",
              "      <td>2002</td>\n",
              "      <td>Sim</td>\n",
              "      <td>Sim</td>\n",
              "      <td>150.374</td>\n",
              "      <td>0</td>\n",
              "      <td>0</td>\n",
              "      <td>0</td>\n",
              "      <td>150.341</td>\n",
              "      <td>0.0</td>\n",
              "      <td>0.0</td>\n",
              "      <td>32</td>\n",
              "    </tr>\n",
              "  </tbody>\n",
              "</table>\n",
              "</div>"
            ],
            "text/plain": [
              "                                          Nome da UC  ... Área (ha) Área Marinha\n",
              "0             ÁREA DE PROTEÇÃO AMBIENTAL ANHATOMIRIM  ...                    117\n",
              "1     ÁREA DE PROTEÇÃO AMBIENTAL CAVERNAS DO PERUAÇU  ...                      0\n",
              "2  ÁREA DE PROTEÇÃO AMBIENTAL DA BACIA DO RIO DES...  ...                      0\n",
              "3  ÁREA DE PROTEÇÃO AMBIENTAL DA BACIA DO RIO SÃO...  ...                      0\n",
              "4  ÁREA DE PROTEÇÃO AMBIENTAL DA BACIA DO RIO SÃO...  ...                     32\n",
              "\n",
              "[5 rows x 16 columns]"
            ]
          },
          "metadata": {
            "tags": []
          },
          "execution_count": 9
        }
      ]
    },
    {
      "cell_type": "markdown",
      "metadata": {
        "id": "rC5TLSTfVdmx"
      },
      "source": [
        "#### 1.4.2. Transforming columns"
      ]
    },
    {
      "cell_type": "code",
      "metadata": {
        "id": "91gqQ9F7viYi"
      },
      "source": [
        "data.iloc[:,8:] = data.iloc[:,8:].apply(pd.to_numeric, errors='coerce')"
      ],
      "execution_count": 14,
      "outputs": []
    },
    {
      "cell_type": "code",
      "metadata": {
        "colab": {
          "base_uri": "https://localhost:8080/"
        },
        "id": "YTjvrjhrvZtS",
        "outputId": "294f77dc-6e02-4c7b-eb1d-0a15d008ccaa"
      },
      "source": [
        "data.dtypes"
      ],
      "execution_count": 15,
      "outputs": [
        {
          "output_type": "execute_result",
          "data": {
            "text/plain": [
              "Nome da UC                   object\n",
              "Esfera Administrativa        object\n",
              "Categoria de Manejo          object\n",
              "Categoria IUCN               object\n",
              "UF                           object\n",
              "Ano de criação                int64\n",
              "Plano de Manejo              object\n",
              "Conselho Gestor              object\n",
              "Área (ha)                   float64\n",
              "Área (ha) Amazônia          float64\n",
              "Área (ha) Caatinga          float64\n",
              "Área (ha) Cerrado           float64\n",
              "Área (ha) Mata Atlântica    float64\n",
              "Área (ha) Pampa             float64\n",
              "Área (ha) Pantanal          float64\n",
              "Área (ha) Área Marinha      float64\n",
              "dtype: object"
            ]
          },
          "metadata": {
            "tags": []
          },
          "execution_count": 15
        }
      ]
    },
    {
      "cell_type": "markdown",
      "metadata": {
        "id": "rkycTJ43Inwt"
      },
      "source": [
        "## 2.0. Step 02 - Data exploration"
      ]
    },
    {
      "cell_type": "code",
      "metadata": {
        "id": "elfqf0rTMftH"
      },
      "source": [
        "plt.rcParams['figure.figsize'] = (13,7)\n",
        "plt.rcParams['axes.titlesize'] = 18"
      ],
      "execution_count": 16,
      "outputs": []
    },
    {
      "cell_type": "markdown",
      "metadata": {
        "id": "m7e1MCHPJc-0"
      },
      "source": [
        "### 2.1. Questions"
      ]
    },
    {
      "cell_type": "code",
      "metadata": {
        "colab": {
          "base_uri": "https://localhost:8080/"
        },
        "id": "oYGZ-13GqRLn",
        "outputId": "9ff727ac-918f-4cf5-dddf-7cf403c41bc8"
      },
      "source": [
        "# Total de itens por esfera administrativa:\n",
        "data['Esfera Administrativa'].value_counts()"
      ],
      "execution_count": 17,
      "outputs": [
        {
          "output_type": "execute_result",
          "data": {
            "text/plain": [
              "Federal      998\n",
              "Estadual     908\n",
              "Municipal    295\n",
              "Name: Esfera Administrativa, dtype: int64"
            ]
          },
          "metadata": {
            "tags": []
          },
          "execution_count": 17
        }
      ]
    },
    {
      "cell_type": "code",
      "metadata": {
        "colab": {
          "base_uri": "https://localhost:8080/",
          "height": 462
        },
        "id": "Z35JibyqrZTF",
        "outputId": "9de6c4d7-a8df-443a-a5e2-3b46b400f46e"
      },
      "source": [
        "g = sns.countplot(x='Esfera Administrativa', data=data)\n",
        "g.set_title('Total de esferas administrativas')\n",
        "g.set_ylabel('Total')\n",
        "plt.show()"
      ],
      "execution_count": 18,
      "outputs": [
        {
          "output_type": "display_data",
          "data": {
            "image/png": "[encoded data removed]",
            "text/plain": [
              "<Figure size 936x504 with 1 Axes>"
            ]
          },
          "metadata": {
            "tags": [],
            "needs_background": "light"
          }
        }
      ]
    },
    {
      "cell_type": "code",
      "metadata": {
        "colab": {
          "base_uri": "https://localhost:8080/"
        },
        "id": "PuyLByTgs3u5",
        "outputId": "15fabbff-7cb0-4379-e7ba-bf87baa14ab7"
      },
      "source": [
        "# Quais são as categorias de manejo e sua quantidade?\n",
        "data['Categoria de Manejo'].value_counts()"
      ],
      "execution_count": 19,
      "outputs": [
        {
          "output_type": "execute_result",
          "data": {
            "text/plain": [
              "Reserva Particular do Patrimônio Natural    888\n",
              "Parque                                      425\n",
              "Área de Proteção Ambiental                  326\n",
              "Floresta                                    106\n",
              "Estação Ecológica                            98\n",
              "Reserva Extrativista                         94\n",
              "Reserva Biológica                            63\n",
              "Refúgio de Vida Silvestre                    62\n",
              "Monumento Natural                            50\n",
              "Área de Relevante Interesse Ecológico        50\n",
              "Reserva de Desenvolvimento Sustentável       39\n",
              "Name: Categoria de Manejo, dtype: int64"
            ]
          },
          "metadata": {
            "tags": []
          },
          "execution_count": 19
        }
      ]
    },
    {
      "cell_type": "code",
      "metadata": {
        "colab": {
          "base_uri": "https://localhost:8080/",
          "height": 661
        },
        "id": "bs9d1fo6rnyc",
        "outputId": "5621fd80-7ddf-49a8-fdcc-d5074840c757"
      },
      "source": [
        "g = sns.countplot(x='Categoria de Manejo', data=data, \n",
        "              order = data['Categoria de Manejo'].value_counts().index)\n",
        "\n",
        "g.set_title('Total de itens na categoria de manejo')\n",
        "g.set_xticklabels(data['Categoria de Manejo'].value_counts().index, rotation=90)\n",
        "g.set_ylabel('Total')\n",
        "\n",
        "plt.show()"
      ],
      "execution_count": 20,
      "outputs": [
        {
          "output_type": "display_data",
          "data": {
            "image/png": "[encoded data removed]",
            "text/plain": [
              "<Figure size 936x504 with 1 Axes>"
            ]
          },
          "metadata": {
            "tags": [],
            "needs_background": "light"
          }
        }
      ]
    },
    {
      "cell_type": "code",
      "metadata": {
        "id": "OhQbDou2NVi5"
      },
      "source": [
        "def bar_graph(x:str, data, title:str, ylabel:str, rotation:int=0):\n",
        "  g = sns.countplot(x=x, data=data, \n",
        "              order = data[x].value_counts().index)\n",
        "\n",
        "  g.set_title(title)\n",
        "  g.set_xticklabels(data[x].value_counts().index, rotation=rotation)\n",
        "  g.set_ylabel(ylabel)\n",
        "  return g"
      ],
      "execution_count": 21,
      "outputs": []
    },
    {
      "cell_type": "code",
      "metadata": {
        "colab": {
          "base_uri": "https://localhost:8080/",
          "height": 661
        },
        "id": "aezA6OM5Q93W",
        "outputId": "eb2fb496-9a83-4f7e-bc19-8bab0e0c979d"
      },
      "source": [
        "bar_graph('Categoria de Manejo', data, \n",
        "          'Total de itens por Categoria de Manejo', \n",
        "          'Total', rotation=90);"
      ],
      "execution_count": 22,
      "outputs": [
        {
          "output_type": "display_data",
          "data": {
            "image/png": "[encoded data removed]",
            "text/plain": [
              "<Figure size 936x504 with 1 Axes>"
            ]
          },
          "metadata": {
            "tags": [],
            "needs_background": "light"
          }
        }
      ]
    },
    {
      "cell_type": "code",
      "metadata": {
        "id": "J_7D5T6ythnI",
        "colab": {
          "base_uri": "https://localhost:8080/",
          "height": 588
        },
        "outputId": "d81c1ddd-f033-44c6-9186-2eb320bf288a"
      },
      "source": [
        "data.head()"
      ],
      "execution_count": 23,
      "outputs": [
        {
          "output_type": "execute_result",
          "data": {
            "text/html": [
              "<div>\n",
              "<style scoped>\n",
              "    .dataframe tbody tr th:only-of-type {\n",
              "        vertical-align: middle;\n",
              "    }\n",
              "\n",
              "    .dataframe tbody tr th {\n",
              "        vertical-align: top;\n",
              "    }\n",
              "\n",
              "    .dataframe thead th {\n",
              "        text-align: right;\n",
              "    }\n",
              "</style>\n",
              "<table border=\"1\" class=\"dataframe\">\n",
              "  <thead>\n",
              "    <tr style=\"text-align: right;\">\n",
              "      <th></th>\n",
              "      <th>Nome da UC</th>\n",
              "      <th>Esfera Administrativa</th>\n",
              "      <th>Categoria de Manejo</th>\n",
              "      <th>Categoria IUCN</th>\n",
              "      <th>UF</th>\n",
              "      <th>Ano de criação</th>\n",
              "      <th>Plano de Manejo</th>\n",
              "      <th>Conselho Gestor</th>\n",
              "      <th>Área (ha)</th>\n",
              "      <th>Área (ha) Amazônia</th>\n",
              "      <th>Área (ha) Caatinga</th>\n",
              "      <th>Área (ha) Cerrado</th>\n",
              "      <th>Área (ha) Mata Atlântica</th>\n",
              "      <th>Área (ha) Pampa</th>\n",
              "      <th>Área (ha) Pantanal</th>\n",
              "      <th>Área (ha) Área Marinha</th>\n",
              "    </tr>\n",
              "  </thead>\n",
              "  <tbody>\n",
              "    <tr>\n",
              "      <th>0</th>\n",
              "      <td>ÁREA DE PROTEÇÃO AMBIENTAL ANHATOMIRIM</td>\n",
              "      <td>Federal</td>\n",
              "      <td>Área de Proteção Ambiental</td>\n",
              "      <td>Category V</td>\n",
              "      <td>SC</td>\n",
              "      <td>1992</td>\n",
              "      <td>Não</td>\n",
              "      <td>Sim</td>\n",
              "      <td>4.437</td>\n",
              "      <td>0.0</td>\n",
              "      <td>0.000</td>\n",
              "      <td>0.000</td>\n",
              "      <td>4.320</td>\n",
              "      <td>0.0</td>\n",
              "      <td>0.0</td>\n",
              "      <td>117.0</td>\n",
              "    </tr>\n",
              "    <tr>\n",
              "      <th>1</th>\n",
              "      <td>ÁREA DE PROTEÇÃO AMBIENTAL CAVERNAS DO PERUAÇU</td>\n",
              "      <td>Federal</td>\n",
              "      <td>Área de Proteção Ambiental</td>\n",
              "      <td>Category V</td>\n",
              "      <td>MG</td>\n",
              "      <td>1989</td>\n",
              "      <td>Não</td>\n",
              "      <td>Sim</td>\n",
              "      <td>143.354</td>\n",
              "      <td>0.0</td>\n",
              "      <td>4.614</td>\n",
              "      <td>138.741</td>\n",
              "      <td>0.000</td>\n",
              "      <td>0.0</td>\n",
              "      <td>0.0</td>\n",
              "      <td>0.0</td>\n",
              "    </tr>\n",
              "    <tr>\n",
              "      <th>2</th>\n",
              "      <td>ÁREA DE PROTEÇÃO AMBIENTAL DA BACIA DO RIO DES...</td>\n",
              "      <td>Federal</td>\n",
              "      <td>Área de Proteção Ambiental</td>\n",
              "      <td>Category V</td>\n",
              "      <td>DF, GO</td>\n",
              "      <td>1983</td>\n",
              "      <td>Não</td>\n",
              "      <td>Não</td>\n",
              "      <td>41.784</td>\n",
              "      <td>0.0</td>\n",
              "      <td>0.000</td>\n",
              "      <td>41.784</td>\n",
              "      <td>0.000</td>\n",
              "      <td>0.0</td>\n",
              "      <td>0.0</td>\n",
              "      <td>0.0</td>\n",
              "    </tr>\n",
              "    <tr>\n",
              "      <th>3</th>\n",
              "      <td>ÁREA DE PROTEÇÃO AMBIENTAL DA BACIA DO RIO SÃO...</td>\n",
              "      <td>Federal</td>\n",
              "      <td>Área de Proteção Ambiental</td>\n",
              "      <td>Category V</td>\n",
              "      <td>DF</td>\n",
              "      <td>1983</td>\n",
              "      <td>Não</td>\n",
              "      <td>Não</td>\n",
              "      <td>82.680</td>\n",
              "      <td>0.0</td>\n",
              "      <td>0.000</td>\n",
              "      <td>82.680</td>\n",
              "      <td>0.000</td>\n",
              "      <td>0.0</td>\n",
              "      <td>0.0</td>\n",
              "      <td>0.0</td>\n",
              "    </tr>\n",
              "    <tr>\n",
              "      <th>4</th>\n",
              "      <td>ÁREA DE PROTEÇÃO AMBIENTAL DA BACIA DO RIO SÃO...</td>\n",
              "      <td>Federal</td>\n",
              "      <td>Área de Proteção Ambiental</td>\n",
              "      <td>Category V</td>\n",
              "      <td>RJ</td>\n",
              "      <td>2002</td>\n",
              "      <td>Sim</td>\n",
              "      <td>Sim</td>\n",
              "      <td>150.374</td>\n",
              "      <td>0.0</td>\n",
              "      <td>0.000</td>\n",
              "      <td>0.000</td>\n",
              "      <td>150.341</td>\n",
              "      <td>0.0</td>\n",
              "      <td>0.0</td>\n",
              "      <td>32.0</td>\n",
              "    </tr>\n",
              "  </tbody>\n",
              "</table>\n",
              "</div>"
            ],
            "text/plain": [
              "                                          Nome da UC  ... Área (ha) Área Marinha\n",
              "0             ÁREA DE PROTEÇÃO AMBIENTAL ANHATOMIRIM  ...                  117.0\n",
              "1     ÁREA DE PROTEÇÃO AMBIENTAL CAVERNAS DO PERUAÇU  ...                    0.0\n",
              "2  ÁREA DE PROTEÇÃO AMBIENTAL DA BACIA DO RIO DES...  ...                    0.0\n",
              "3  ÁREA DE PROTEÇÃO AMBIENTAL DA BACIA DO RIO SÃO...  ...                    0.0\n",
              "4  ÁREA DE PROTEÇÃO AMBIENTAL DA BACIA DO RIO SÃO...  ...                   32.0\n",
              "\n",
              "[5 rows x 16 columns]"
            ]
          },
          "metadata": {
            "tags": []
          },
          "execution_count": 23
        }
      ]
    },
    {
      "cell_type": "code",
      "metadata": {
        "id": "cOhgwUSBU1tU"
      },
      "source": [
        ""
      ],
      "execution_count": 23,
      "outputs": []
    }
  ]
}